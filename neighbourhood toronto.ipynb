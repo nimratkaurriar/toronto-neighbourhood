{
    "cells": [
        {
            "cell_type": "code",
            "execution_count": 1,
            "metadata": {},
            "outputs": [],
            "source": "import pandas as pd\n\nimport requests\n\nfrom bs4 import BeautifulSoup"
        },
        {
            "cell_type": "code",
            "execution_count": 8,
            "metadata": {},
            "outputs": [],
            "source": "req = requests.get(\"https://en.wikipedia.org/w/index.php?title=List_of_postal_codes_of_Canada:_M&oldid=935851093\")\n\nsoup = BeautifulSoup(req.content,'lxml')\n\ntable = soup.find_all('table')[0]\n\ndf = pd.read_html(str(table))\n\n\nneighborhood=pd.DataFrame(df[0])\n\n"
        },
        {
            "cell_type": "code",
            "execution_count": 19,
            "metadata": {},
            "outputs": [
                {
                    "data": {
                        "text/html": "<div>\n<style scoped>\n    .dataframe tbody tr th:only-of-type {\n        vertical-align: middle;\n    }\n\n    .dataframe tbody tr th {\n        vertical-align: top;\n    }\n\n    .dataframe thead th {\n        text-align: right;\n    }\n</style>\n<table border=\"1\" class=\"dataframe\">\n  <thead>\n    <tr style=\"text-align: right;\">\n      <th></th>\n      <th>Postcode</th>\n      <th>Borough</th>\n      <th>Neighbourhood</th>\n    </tr>\n  </thead>\n  <tbody>\n    <tr>\n      <th>0</th>\n      <td>M1A</td>\n      <td>Not assigned</td>\n      <td>Not assigned</td>\n    </tr>\n    <tr>\n      <th>1</th>\n      <td>M2A</td>\n      <td>Not assigned</td>\n      <td>Not assigned</td>\n    </tr>\n    <tr>\n      <th>2</th>\n      <td>M3A</td>\n      <td>North York</td>\n      <td>Parkwoods</td>\n    </tr>\n    <tr>\n      <th>3</th>\n      <td>M4A</td>\n      <td>North York</td>\n      <td>Victoria Village</td>\n    </tr>\n    <tr>\n      <th>4</th>\n      <td>M5A</td>\n      <td>Downtown Toronto</td>\n      <td>Harbourfront</td>\n    </tr>\n    <tr>\n      <th>5</th>\n      <td>M6A</td>\n      <td>North York</td>\n      <td>Lawrence Heights</td>\n    </tr>\n    <tr>\n      <th>6</th>\n      <td>M6A</td>\n      <td>North York</td>\n      <td>Lawrence Manor</td>\n    </tr>\n    <tr>\n      <th>7</th>\n      <td>M7A</td>\n      <td>Downtown Toronto</td>\n      <td>Queen's Park</td>\n    </tr>\n    <tr>\n      <th>8</th>\n      <td>M8A</td>\n      <td>Not assigned</td>\n      <td>Not assigned</td>\n    </tr>\n    <tr>\n      <th>9</th>\n      <td>M9A</td>\n      <td>Queen's Park</td>\n      <td>Not assigned</td>\n    </tr>\n  </tbody>\n</table>\n</div>",
                        "text/plain": "  Postcode           Borough     Neighbourhood\n0      M1A      Not assigned      Not assigned\n1      M2A      Not assigned      Not assigned\n2      M3A        North York         Parkwoods\n3      M4A        North York  Victoria Village\n4      M5A  Downtown Toronto      Harbourfront\n5      M6A        North York  Lawrence Heights\n6      M6A        North York    Lawrence Manor\n7      M7A  Downtown Toronto      Queen's Park\n8      M8A      Not assigned      Not assigned\n9      M9A      Queen's Park      Not assigned"
                    },
                    "execution_count": 19,
                    "metadata": {},
                    "output_type": "execute_result"
                }
            ],
            "source": "df1=neighborhood.dropna(subset = [\"Borough\"])\ndf1.head(10)\n"
        },
        {
            "cell_type": "code",
            "execution_count": 21,
            "metadata": {},
            "outputs": [
                {
                    "data": {
                        "text/html": "<div>\n<style scoped>\n    .dataframe tbody tr th:only-of-type {\n        vertical-align: middle;\n    }\n\n    .dataframe tbody tr th {\n        vertical-align: top;\n    }\n\n    .dataframe thead th {\n        text-align: right;\n    }\n</style>\n<table border=\"1\" class=\"dataframe\">\n  <thead>\n    <tr style=\"text-align: right;\">\n      <th></th>\n      <th>Postcode</th>\n      <th>Neighbourhood</th>\n      <th>Borough</th>\n    </tr>\n  </thead>\n  <tbody>\n    <tr>\n      <th>0</th>\n      <td>M1A</td>\n      <td>Not assigned</td>\n      <td>Not assigned</td>\n    </tr>\n    <tr>\n      <th>1</th>\n      <td>M1B</td>\n      <td>Rouge, Malvern</td>\n      <td>Scarborough</td>\n    </tr>\n    <tr>\n      <th>2</th>\n      <td>M1C</td>\n      <td>Highland Creek, Rouge Hill, Port Union</td>\n      <td>Scarborough</td>\n    </tr>\n    <tr>\n      <th>3</th>\n      <td>M1E</td>\n      <td>Guildwood, Morningside, West Hill</td>\n      <td>Scarborough</td>\n    </tr>\n    <tr>\n      <th>4</th>\n      <td>M1G</td>\n      <td>Woburn</td>\n      <td>Scarborough</td>\n    </tr>\n  </tbody>\n</table>\n</div>",
                        "text/plain": "  Postcode                           Neighbourhood       Borough\n0      M1A                            Not assigned  Not assigned\n1      M1B                          Rouge, Malvern   Scarborough\n2      M1C  Highland Creek, Rouge Hill, Port Union   Scarborough\n3      M1E       Guildwood, Morningside, West Hill   Scarborough\n4      M1G                                  Woburn   Scarborough"
                    },
                    "execution_count": 21,
                    "metadata": {},
                    "output_type": "execute_result"
                }
            ],
            "source": "df1 = df1.groupby('Postcode').agg({'Neighbourhood':'first', \n                             'Neighbourhood': ', '.join , 'Borough':'first'\n                              }).reset_index()\ndf1.head()\n"
        },
        {
            "cell_type": "code",
            "execution_count": 26,
            "metadata": {},
            "outputs": [
                {
                    "data": {
                        "text/html": "<div>\n<style scoped>\n    .dataframe tbody tr th:only-of-type {\n        vertical-align: middle;\n    }\n\n    .dataframe tbody tr th {\n        vertical-align: top;\n    }\n\n    .dataframe thead th {\n        text-align: right;\n    }\n</style>\n<table border=\"1\" class=\"dataframe\">\n  <thead>\n    <tr style=\"text-align: right;\">\n      <th></th>\n      <th>Postcode</th>\n      <th>Neighbourhood</th>\n      <th>Borough</th>\n    </tr>\n  </thead>\n  <tbody>\n    <tr>\n      <th>0</th>\n      <td>M1A</td>\n      <td>Not assigned</td>\n      <td>Not assigned</td>\n    </tr>\n    <tr>\n      <th>1</th>\n      <td>M1B</td>\n      <td>Rouge, Malvern</td>\n      <td>Scarborough</td>\n    </tr>\n    <tr>\n      <th>2</th>\n      <td>M1C</td>\n      <td>Highland Creek, Rouge Hill, Port Union</td>\n      <td>Scarborough</td>\n    </tr>\n    <tr>\n      <th>3</th>\n      <td>M1E</td>\n      <td>Guildwood, Morningside, West Hill</td>\n      <td>Scarborough</td>\n    </tr>\n    <tr>\n      <th>4</th>\n      <td>M1G</td>\n      <td>Woburn</td>\n      <td>Scarborough</td>\n    </tr>\n  </tbody>\n</table>\n</div>",
                        "text/plain": "  Postcode                           Neighbourhood       Borough\n0      M1A                            Not assigned  Not assigned\n1      M1B                          Rouge, Malvern   Scarborough\n2      M1C  Highland Creek, Rouge Hill, Port Union   Scarborough\n3      M1E       Guildwood, Morningside, West Hill   Scarborough\n4      M1G                                  Woburn   Scarborough"
                    },
                    "execution_count": 26,
                    "metadata": {},
                    "output_type": "execute_result"
                }
            ],
            "source": "df1.Borough.fillna(df1.Neighbourhood,inplace=True)\ndf1.head()"
        },
        {
            "cell_type": "code",
            "execution_count": 28,
            "metadata": {},
            "outputs": [
                {
                    "data": {
                        "text/plain": "Postcode         180\nNeighbourhood    180\nBorough          180\ndtype: int64"
                    },
                    "execution_count": 28,
                    "metadata": {},
                    "output_type": "execute_result"
                }
            ],
            "source": "df1.count()"
        },
        {
            "cell_type": "markdown",
            "metadata": {},
            "source": "assumptions made-1) neighbourhoods having the same postcode were merged\n2) neigbourhoods not having a assigned name were given the same name as that in borough column\n"
        },
        {
            "cell_type": "code",
            "execution_count": 31,
            "metadata": {},
            "outputs": [
                {
                    "data": {
                        "text/html": "<div>\n<style scoped>\n    .dataframe tbody tr th:only-of-type {\n        vertical-align: middle;\n    }\n\n    .dataframe tbody tr th {\n        vertical-align: top;\n    }\n\n    .dataframe thead th {\n        text-align: right;\n    }\n</style>\n<table border=\"1\" class=\"dataframe\">\n  <thead>\n    <tr style=\"text-align: right;\">\n      <th></th>\n      <th>Postal Code</th>\n      <th>Latitude</th>\n      <th>Longitude</th>\n    </tr>\n  </thead>\n  <tbody>\n    <tr>\n      <th>0</th>\n      <td>M1B</td>\n      <td>43.806686</td>\n      <td>-79.194353</td>\n    </tr>\n    <tr>\n      <th>1</th>\n      <td>M1C</td>\n      <td>43.784535</td>\n      <td>-79.160497</td>\n    </tr>\n    <tr>\n      <th>2</th>\n      <td>M1E</td>\n      <td>43.763573</td>\n      <td>-79.188711</td>\n    </tr>\n    <tr>\n      <th>3</th>\n      <td>M1G</td>\n      <td>43.770992</td>\n      <td>-79.216917</td>\n    </tr>\n    <tr>\n      <th>4</th>\n      <td>M1H</td>\n      <td>43.773136</td>\n      <td>-79.239476</td>\n    </tr>\n  </tbody>\n</table>\n</div>",
                        "text/plain": "  Postal Code   Latitude  Longitude\n0         M1B  43.806686 -79.194353\n1         M1C  43.784535 -79.160497\n2         M1E  43.763573 -79.188711\n3         M1G  43.770992 -79.216917\n4         M1H  43.773136 -79.239476"
                    },
                    "execution_count": 31,
                    "metadata": {},
                    "output_type": "execute_result"
                }
            ],
            "source": "df = pd.read_csv('http://cocl.us/Geospatial_data')\ndf.head()"
        },
        {
            "cell_type": "code",
            "execution_count": 38,
            "metadata": {},
            "outputs": [
                {
                    "data": {
                        "text/html": "<div>\n<style scoped>\n    .dataframe tbody tr th:only-of-type {\n        vertical-align: middle;\n    }\n\n    .dataframe tbody tr th {\n        vertical-align: top;\n    }\n\n    .dataframe thead th {\n        text-align: right;\n    }\n</style>\n<table border=\"1\" class=\"dataframe\">\n  <thead>\n    <tr style=\"text-align: right;\">\n      <th></th>\n      <th>Postal Code</th>\n      <th>Latitude</th>\n      <th>Longitude</th>\n      <th>Postcode</th>\n      <th>Neighbourhood</th>\n      <th>Borough</th>\n    </tr>\n  </thead>\n  <tbody>\n    <tr>\n      <th>0</th>\n      <td>M1B</td>\n      <td>43.806686</td>\n      <td>-79.194353</td>\n      <td>M1B</td>\n      <td>Rouge, Malvern</td>\n      <td>Scarborough</td>\n    </tr>\n    <tr>\n      <th>1</th>\n      <td>M1C</td>\n      <td>43.784535</td>\n      <td>-79.160497</td>\n      <td>M1C</td>\n      <td>Highland Creek, Rouge Hill, Port Union</td>\n      <td>Scarborough</td>\n    </tr>\n    <tr>\n      <th>2</th>\n      <td>M1E</td>\n      <td>43.763573</td>\n      <td>-79.188711</td>\n      <td>M1E</td>\n      <td>Guildwood, Morningside, West Hill</td>\n      <td>Scarborough</td>\n    </tr>\n    <tr>\n      <th>3</th>\n      <td>M1G</td>\n      <td>43.770992</td>\n      <td>-79.216917</td>\n      <td>M1G</td>\n      <td>Woburn</td>\n      <td>Scarborough</td>\n    </tr>\n    <tr>\n      <th>4</th>\n      <td>M1H</td>\n      <td>43.773136</td>\n      <td>-79.239476</td>\n      <td>M1H</td>\n      <td>Cedarbrae</td>\n      <td>Scarborough</td>\n    </tr>\n    <tr>\n      <th>5</th>\n      <td>M1J</td>\n      <td>43.744734</td>\n      <td>-79.239476</td>\n      <td>M1J</td>\n      <td>Scarborough Village</td>\n      <td>Scarborough</td>\n    </tr>\n    <tr>\n      <th>6</th>\n      <td>M1K</td>\n      <td>43.727929</td>\n      <td>-79.262029</td>\n      <td>M1K</td>\n      <td>East Birchmount Park, Ionview, Kennedy Park</td>\n      <td>Scarborough</td>\n    </tr>\n    <tr>\n      <th>7</th>\n      <td>M1L</td>\n      <td>43.711112</td>\n      <td>-79.284577</td>\n      <td>M1L</td>\n      <td>Clairlea, Golden Mile, Oakridge</td>\n      <td>Scarborough</td>\n    </tr>\n    <tr>\n      <th>8</th>\n      <td>M1M</td>\n      <td>43.716316</td>\n      <td>-79.239476</td>\n      <td>M1M</td>\n      <td>Cliffcrest, Cliffside, Scarborough Village West</td>\n      <td>Scarborough</td>\n    </tr>\n    <tr>\n      <th>9</th>\n      <td>M1N</td>\n      <td>43.692657</td>\n      <td>-79.264848</td>\n      <td>M1N</td>\n      <td>Birch Cliff, Cliffside West</td>\n      <td>Scarborough</td>\n    </tr>\n  </tbody>\n</table>\n</div>",
                        "text/plain": "  Postal Code   Latitude  Longitude Postcode  \\\n0         M1B  43.806686 -79.194353      M1B   \n1         M1C  43.784535 -79.160497      M1C   \n2         M1E  43.763573 -79.188711      M1E   \n3         M1G  43.770992 -79.216917      M1G   \n4         M1H  43.773136 -79.239476      M1H   \n5         M1J  43.744734 -79.239476      M1J   \n6         M1K  43.727929 -79.262029      M1K   \n7         M1L  43.711112 -79.284577      M1L   \n8         M1M  43.716316 -79.239476      M1M   \n9         M1N  43.692657 -79.264848      M1N   \n\n                                     Neighbourhood      Borough  \n0                                   Rouge, Malvern  Scarborough  \n1           Highland Creek, Rouge Hill, Port Union  Scarborough  \n2                Guildwood, Morningside, West Hill  Scarborough  \n3                                           Woburn  Scarborough  \n4                                        Cedarbrae  Scarborough  \n5                              Scarborough Village  Scarborough  \n6      East Birchmount Park, Ionview, Kennedy Park  Scarborough  \n7                  Clairlea, Golden Mile, Oakridge  Scarborough  \n8  Cliffcrest, Cliffside, Scarborough Village West  Scarborough  \n9                      Birch Cliff, Cliffside West  Scarborough  "
                    },
                    "execution_count": 38,
                    "metadata": {},
                    "output_type": "execute_result"
                }
            ],
            "source": "dfinal = df.merge(df1, how='inner', left_on='Postal Code', right_on='Postcode')\ndfinal.head(10)"
        },
        {
            "cell_type": "code",
            "execution_count": null,
            "metadata": {},
            "outputs": [],
            "source": ""
        }
    ],
    "metadata": {
        "kernelspec": {
            "display_name": "Python 3.6",
            "language": "python",
            "name": "python3"
        },
        "language_info": {
            "codemirror_mode": {
                "name": "ipython",
                "version": 3
            },
            "file_extension": ".py",
            "mimetype": "text/x-python",
            "name": "python",
            "nbconvert_exporter": "python",
            "pygments_lexer": "ipython3",
            "version": "3.6.9"
        }
    },
    "nbformat": 4,
    "nbformat_minor": 1
}